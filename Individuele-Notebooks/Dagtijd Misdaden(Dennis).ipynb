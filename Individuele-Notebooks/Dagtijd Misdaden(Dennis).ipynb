{
 "cells": [
  {
   "cell_type": "code",
   "execution_count": 1,
   "metadata": {},
   "outputs": [],
   "source": [
    "#Importeert benodigde functies\n",
    "import pandas as pd\n",
    "import numpy as np\n",
    "import matplotlib.pyplot as plt\n",
    "import matplotlib.dates as mdates\n",
    "import datetime\n",
    "import seaborn as sns"
   ]
  },
  {
   "cell_type": "code",
   "execution_count": 2,
   "metadata": {},
   "outputs": [],
   "source": [
    "#Importeert misdaad data uit Denver en definieerd deze data als df\n",
    "df = pd.read_csv('crime.csv')"
   ]
  },
  {
   "cell_type": "code",
   "execution_count": 3,
   "metadata": {},
   "outputs": [],
   "source": [
    "#Verkeersongevallen/verkeersovertredingen laten we weg.\n",
    "df = df[df.IS_CRIME != 0]"
   ]
  },
  {
   "cell_type": "code",
   "execution_count": 4,
   "metadata": {},
   "outputs": [
    {
     "data": {
      "text/html": [
       "<div>\n",
       "<style scoped>\n",
       "    .dataframe tbody tr th:only-of-type {\n",
       "        vertical-align: middle;\n",
       "    }\n",
       "\n",
       "    .dataframe tbody tr th {\n",
       "        vertical-align: top;\n",
       "    }\n",
       "\n",
       "    .dataframe thead th {\n",
       "        text-align: right;\n",
       "    }\n",
       "</style>\n",
       "<table border=\"1\" class=\"dataframe\">\n",
       "  <thead>\n",
       "    <tr style=\"text-align: right;\">\n",
       "      <th></th>\n",
       "      <th>INCIDENT_ID</th>\n",
       "      <th>OFFENSE_ID</th>\n",
       "      <th>OFFENSE_CODE</th>\n",
       "      <th>OFFENSE_CODE_EXTENSION</th>\n",
       "      <th>OFFENSE_TYPE_ID</th>\n",
       "      <th>OFFENSE_CATEGORY_ID</th>\n",
       "      <th>FIRST_OCCURRENCE_DATE</th>\n",
       "      <th>LAST_OCCURRENCE_DATE</th>\n",
       "      <th>REPORTED_DATE</th>\n",
       "      <th>INCIDENT_ADDRESS</th>\n",
       "      <th>GEO_X</th>\n",
       "      <th>GEO_Y</th>\n",
       "      <th>GEO_LON</th>\n",
       "      <th>GEO_LAT</th>\n",
       "      <th>DISTRICT_ID</th>\n",
       "      <th>PRECINCT_ID</th>\n",
       "      <th>NEIGHBORHOOD_ID</th>\n",
       "      <th>IS_CRIME</th>\n",
       "      <th>IS_TRAFFIC</th>\n",
       "    </tr>\n",
       "  </thead>\n",
       "  <tbody>\n",
       "    <tr>\n",
       "      <td>0</td>\n",
       "      <td>2016376978</td>\n",
       "      <td>2016376978521300</td>\n",
       "      <td>5213</td>\n",
       "      <td>0</td>\n",
       "      <td>weapon-unlawful-discharge-of</td>\n",
       "      <td>all-other-crimes</td>\n",
       "      <td>6/15/2016 11:31:00 PM</td>\n",
       "      <td>NaN</td>\n",
       "      <td>6/15/2016 11:31:00 PM</td>\n",
       "      <td>NaN</td>\n",
       "      <td>3193983.0</td>\n",
       "      <td>1707251.0</td>\n",
       "      <td>-104.809881</td>\n",
       "      <td>39.773188</td>\n",
       "      <td>5</td>\n",
       "      <td>521</td>\n",
       "      <td>montbello</td>\n",
       "      <td>1</td>\n",
       "      <td>0</td>\n",
       "    </tr>\n",
       "    <tr>\n",
       "      <td>1</td>\n",
       "      <td>20186000994</td>\n",
       "      <td>20186000994239900</td>\n",
       "      <td>2399</td>\n",
       "      <td>0</td>\n",
       "      <td>theft-other</td>\n",
       "      <td>larceny</td>\n",
       "      <td>10/11/2017 12:30:00 PM</td>\n",
       "      <td>10/11/2017 4:55:00 PM</td>\n",
       "      <td>1/29/2018 5:53:00 PM</td>\n",
       "      <td>NaN</td>\n",
       "      <td>3201943.0</td>\n",
       "      <td>1711852.0</td>\n",
       "      <td>-104.781434</td>\n",
       "      <td>39.785649</td>\n",
       "      <td>5</td>\n",
       "      <td>522</td>\n",
       "      <td>gateway-green-valley-ranch</td>\n",
       "      <td>1</td>\n",
       "      <td>0</td>\n",
       "    </tr>\n",
       "    <tr>\n",
       "      <td>2</td>\n",
       "      <td>20166003953</td>\n",
       "      <td>20166003953230500</td>\n",
       "      <td>2305</td>\n",
       "      <td>0</td>\n",
       "      <td>theft-items-from-vehicle</td>\n",
       "      <td>theft-from-motor-vehicle</td>\n",
       "      <td>3/4/2016 8:00:00 PM</td>\n",
       "      <td>4/25/2016 8:00:00 AM</td>\n",
       "      <td>4/26/2016 9:02:00 PM</td>\n",
       "      <td>2932 S JOSEPHINE ST</td>\n",
       "      <td>3152762.0</td>\n",
       "      <td>1667011.0</td>\n",
       "      <td>-104.957381</td>\n",
       "      <td>39.663490</td>\n",
       "      <td>3</td>\n",
       "      <td>314</td>\n",
       "      <td>wellshire</td>\n",
       "      <td>1</td>\n",
       "      <td>0</td>\n",
       "    </tr>\n",
       "    <tr>\n",
       "      <td>3</td>\n",
       "      <td>201872333</td>\n",
       "      <td>201872333239900</td>\n",
       "      <td>2399</td>\n",
       "      <td>0</td>\n",
       "      <td>theft-other</td>\n",
       "      <td>larceny</td>\n",
       "      <td>1/30/2018 7:20:00 PM</td>\n",
       "      <td>NaN</td>\n",
       "      <td>1/30/2018 10:29:00 PM</td>\n",
       "      <td>705 S COLORADO BLVD</td>\n",
       "      <td>3157162.0</td>\n",
       "      <td>1681320.0</td>\n",
       "      <td>-104.941440</td>\n",
       "      <td>39.702698</td>\n",
       "      <td>3</td>\n",
       "      <td>312</td>\n",
       "      <td>belcaro</td>\n",
       "      <td>1</td>\n",
       "      <td>0</td>\n",
       "    </tr>\n",
       "    <tr>\n",
       "      <td>4</td>\n",
       "      <td>2017411405</td>\n",
       "      <td>2017411405230300</td>\n",
       "      <td>2303</td>\n",
       "      <td>0</td>\n",
       "      <td>theft-shoplift</td>\n",
       "      <td>larceny</td>\n",
       "      <td>6/22/2017 8:53:00 PM</td>\n",
       "      <td>NaN</td>\n",
       "      <td>6/23/2017 4:09:00 PM</td>\n",
       "      <td>2810 E 1ST AVE</td>\n",
       "      <td>3153211.0</td>\n",
       "      <td>1686545.0</td>\n",
       "      <td>-104.955370</td>\n",
       "      <td>39.717107</td>\n",
       "      <td>3</td>\n",
       "      <td>311</td>\n",
       "      <td>cherry-creek</td>\n",
       "      <td>1</td>\n",
       "      <td>0</td>\n",
       "    </tr>\n",
       "  </tbody>\n",
       "</table>\n",
       "</div>"
      ],
      "text/plain": [
       "   INCIDENT_ID         OFFENSE_ID  OFFENSE_CODE  OFFENSE_CODE_EXTENSION  \\\n",
       "0   2016376978   2016376978521300          5213                       0   \n",
       "1  20186000994  20186000994239900          2399                       0   \n",
       "2  20166003953  20166003953230500          2305                       0   \n",
       "3    201872333    201872333239900          2399                       0   \n",
       "4   2017411405   2017411405230300          2303                       0   \n",
       "\n",
       "                OFFENSE_TYPE_ID       OFFENSE_CATEGORY_ID  \\\n",
       "0  weapon-unlawful-discharge-of          all-other-crimes   \n",
       "1                   theft-other                   larceny   \n",
       "2      theft-items-from-vehicle  theft-from-motor-vehicle   \n",
       "3                   theft-other                   larceny   \n",
       "4                theft-shoplift                   larceny   \n",
       "\n",
       "    FIRST_OCCURRENCE_DATE   LAST_OCCURRENCE_DATE          REPORTED_DATE  \\\n",
       "0   6/15/2016 11:31:00 PM                    NaN  6/15/2016 11:31:00 PM   \n",
       "1  10/11/2017 12:30:00 PM  10/11/2017 4:55:00 PM   1/29/2018 5:53:00 PM   \n",
       "2     3/4/2016 8:00:00 PM   4/25/2016 8:00:00 AM   4/26/2016 9:02:00 PM   \n",
       "3    1/30/2018 7:20:00 PM                    NaN  1/30/2018 10:29:00 PM   \n",
       "4    6/22/2017 8:53:00 PM                    NaN   6/23/2017 4:09:00 PM   \n",
       "\n",
       "      INCIDENT_ADDRESS      GEO_X      GEO_Y     GEO_LON    GEO_LAT  \\\n",
       "0                  NaN  3193983.0  1707251.0 -104.809881  39.773188   \n",
       "1                  NaN  3201943.0  1711852.0 -104.781434  39.785649   \n",
       "2  2932 S JOSEPHINE ST  3152762.0  1667011.0 -104.957381  39.663490   \n",
       "3  705 S COLORADO BLVD  3157162.0  1681320.0 -104.941440  39.702698   \n",
       "4       2810 E 1ST AVE  3153211.0  1686545.0 -104.955370  39.717107   \n",
       "\n",
       "   DISTRICT_ID  PRECINCT_ID             NEIGHBORHOOD_ID  IS_CRIME  IS_TRAFFIC  \n",
       "0            5          521                   montbello         1           0  \n",
       "1            5          522  gateway-green-valley-ranch         1           0  \n",
       "2            3          314                   wellshire         1           0  \n",
       "3            3          312                     belcaro         1           0  \n",
       "4            3          311                cherry-creek         1           0  "
      ]
     },
     "execution_count": 4,
     "metadata": {},
     "output_type": "execute_result"
    }
   ],
   "source": [
    "#Data Understanding: Eerste indruk data, bovenste 5 rijen worden met kolomnaam weergegeven.\n",
    "df.head()"
   ]
  },
  {
   "cell_type": "code",
   "execution_count": 5,
   "metadata": {},
   "outputs": [
    {
     "name": "stdout",
     "output_type": "stream",
     "text": [
      "<class 'pandas.core.frame.DataFrame'>\n",
      "Int64Index: 345023 entries, 0 to 466838\n",
      "Data columns (total 19 columns):\n",
      "INCIDENT_ID               345023 non-null int64\n",
      "OFFENSE_ID                345023 non-null int64\n",
      "OFFENSE_CODE              345023 non-null int64\n",
      "OFFENSE_CODE_EXTENSION    345023 non-null int64\n",
      "OFFENSE_TYPE_ID           345023 non-null object\n",
      "OFFENSE_CATEGORY_ID       345023 non-null object\n",
      "FIRST_OCCURRENCE_DATE     345023 non-null object\n",
      "LAST_OCCURRENCE_DATE      146580 non-null object\n",
      "REPORTED_DATE             345023 non-null object\n",
      "INCIDENT_ADDRESS          314921 non-null object\n",
      "GEO_X                     340979 non-null float64\n",
      "GEO_Y                     340979 non-null float64\n",
      "GEO_LON                   340979 non-null float64\n",
      "GEO_LAT                   340979 non-null float64\n",
      "DISTRICT_ID               345023 non-null int64\n",
      "PRECINCT_ID               345023 non-null int64\n",
      "NEIGHBORHOOD_ID           345023 non-null object\n",
      "IS_CRIME                  345023 non-null int64\n",
      "IS_TRAFFIC                345023 non-null int64\n",
      "dtypes: float64(4), int64(8), object(7)\n",
      "memory usage: 52.6+ MB\n"
     ]
    }
   ],
   "source": [
    "df.info()"
   ]
  },
  {
   "cell_type": "code",
   "execution_count": 6,
   "metadata": {},
   "outputs": [],
   "source": [
    "#Tijdsobjecten omzetten in DateTime eenheden voor het plotten.\n",
    "df['FIRST_OCCURRENCE_DATE'] = pd.to_datetime(df['FIRST_OCCURRENCE_DATE'])"
   ]
  },
  {
   "cell_type": "code",
   "execution_count": 7,
   "metadata": {},
   "outputs": [
    {
     "data": {
      "text/html": [
       "<div>\n",
       "<style scoped>\n",
       "    .dataframe tbody tr th:only-of-type {\n",
       "        vertical-align: middle;\n",
       "    }\n",
       "\n",
       "    .dataframe tbody tr th {\n",
       "        vertical-align: top;\n",
       "    }\n",
       "\n",
       "    .dataframe thead th {\n",
       "        text-align: right;\n",
       "    }\n",
       "</style>\n",
       "<table border=\"1\" class=\"dataframe\">\n",
       "  <thead>\n",
       "    <tr style=\"text-align: right;\">\n",
       "      <th></th>\n",
       "      <th>INCIDENT_ID</th>\n",
       "      <th>OFFENSE_ID</th>\n",
       "      <th>OFFENSE_CODE</th>\n",
       "      <th>OFFENSE_CODE_EXTENSION</th>\n",
       "      <th>OFFENSE_TYPE_ID</th>\n",
       "      <th>OFFENSE_CATEGORY_ID</th>\n",
       "      <th>FIRST_OCCURRENCE_DATE</th>\n",
       "      <th>LAST_OCCURRENCE_DATE</th>\n",
       "      <th>REPORTED_DATE</th>\n",
       "      <th>INCIDENT_ADDRESS</th>\n",
       "      <th>GEO_X</th>\n",
       "      <th>GEO_Y</th>\n",
       "      <th>GEO_LON</th>\n",
       "      <th>GEO_LAT</th>\n",
       "      <th>DISTRICT_ID</th>\n",
       "      <th>PRECINCT_ID</th>\n",
       "      <th>NEIGHBORHOOD_ID</th>\n",
       "      <th>IS_CRIME</th>\n",
       "      <th>IS_TRAFFIC</th>\n",
       "      <th>hour</th>\n",
       "    </tr>\n",
       "  </thead>\n",
       "  <tbody>\n",
       "    <tr>\n",
       "      <td>0</td>\n",
       "      <td>2016376978</td>\n",
       "      <td>2016376978521300</td>\n",
       "      <td>5213</td>\n",
       "      <td>0</td>\n",
       "      <td>weapon-unlawful-discharge-of</td>\n",
       "      <td>all-other-crimes</td>\n",
       "      <td>2016-06-15 23:31:00</td>\n",
       "      <td>NaN</td>\n",
       "      <td>6/15/2016 11:31:00 PM</td>\n",
       "      <td>NaN</td>\n",
       "      <td>3193983.0</td>\n",
       "      <td>1707251.0</td>\n",
       "      <td>-104.809881</td>\n",
       "      <td>39.773188</td>\n",
       "      <td>5</td>\n",
       "      <td>521</td>\n",
       "      <td>montbello</td>\n",
       "      <td>1</td>\n",
       "      <td>0</td>\n",
       "      <td>23</td>\n",
       "    </tr>\n",
       "    <tr>\n",
       "      <td>1</td>\n",
       "      <td>20186000994</td>\n",
       "      <td>20186000994239900</td>\n",
       "      <td>2399</td>\n",
       "      <td>0</td>\n",
       "      <td>theft-other</td>\n",
       "      <td>larceny</td>\n",
       "      <td>2017-10-11 12:30:00</td>\n",
       "      <td>10/11/2017 4:55:00 PM</td>\n",
       "      <td>1/29/2018 5:53:00 PM</td>\n",
       "      <td>NaN</td>\n",
       "      <td>3201943.0</td>\n",
       "      <td>1711852.0</td>\n",
       "      <td>-104.781434</td>\n",
       "      <td>39.785649</td>\n",
       "      <td>5</td>\n",
       "      <td>522</td>\n",
       "      <td>gateway-green-valley-ranch</td>\n",
       "      <td>1</td>\n",
       "      <td>0</td>\n",
       "      <td>12</td>\n",
       "    </tr>\n",
       "    <tr>\n",
       "      <td>2</td>\n",
       "      <td>20166003953</td>\n",
       "      <td>20166003953230500</td>\n",
       "      <td>2305</td>\n",
       "      <td>0</td>\n",
       "      <td>theft-items-from-vehicle</td>\n",
       "      <td>theft-from-motor-vehicle</td>\n",
       "      <td>2016-03-04 20:00:00</td>\n",
       "      <td>4/25/2016 8:00:00 AM</td>\n",
       "      <td>4/26/2016 9:02:00 PM</td>\n",
       "      <td>2932 S JOSEPHINE ST</td>\n",
       "      <td>3152762.0</td>\n",
       "      <td>1667011.0</td>\n",
       "      <td>-104.957381</td>\n",
       "      <td>39.663490</td>\n",
       "      <td>3</td>\n",
       "      <td>314</td>\n",
       "      <td>wellshire</td>\n",
       "      <td>1</td>\n",
       "      <td>0</td>\n",
       "      <td>20</td>\n",
       "    </tr>\n",
       "    <tr>\n",
       "      <td>3</td>\n",
       "      <td>201872333</td>\n",
       "      <td>201872333239900</td>\n",
       "      <td>2399</td>\n",
       "      <td>0</td>\n",
       "      <td>theft-other</td>\n",
       "      <td>larceny</td>\n",
       "      <td>2018-01-30 19:20:00</td>\n",
       "      <td>NaN</td>\n",
       "      <td>1/30/2018 10:29:00 PM</td>\n",
       "      <td>705 S COLORADO BLVD</td>\n",
       "      <td>3157162.0</td>\n",
       "      <td>1681320.0</td>\n",
       "      <td>-104.941440</td>\n",
       "      <td>39.702698</td>\n",
       "      <td>3</td>\n",
       "      <td>312</td>\n",
       "      <td>belcaro</td>\n",
       "      <td>1</td>\n",
       "      <td>0</td>\n",
       "      <td>19</td>\n",
       "    </tr>\n",
       "    <tr>\n",
       "      <td>4</td>\n",
       "      <td>2017411405</td>\n",
       "      <td>2017411405230300</td>\n",
       "      <td>2303</td>\n",
       "      <td>0</td>\n",
       "      <td>theft-shoplift</td>\n",
       "      <td>larceny</td>\n",
       "      <td>2017-06-22 20:53:00</td>\n",
       "      <td>NaN</td>\n",
       "      <td>6/23/2017 4:09:00 PM</td>\n",
       "      <td>2810 E 1ST AVE</td>\n",
       "      <td>3153211.0</td>\n",
       "      <td>1686545.0</td>\n",
       "      <td>-104.955370</td>\n",
       "      <td>39.717107</td>\n",
       "      <td>3</td>\n",
       "      <td>311</td>\n",
       "      <td>cherry-creek</td>\n",
       "      <td>1</td>\n",
       "      <td>0</td>\n",
       "      <td>20</td>\n",
       "    </tr>\n",
       "  </tbody>\n",
       "</table>\n",
       "</div>"
      ],
      "text/plain": [
       "   INCIDENT_ID         OFFENSE_ID  OFFENSE_CODE  OFFENSE_CODE_EXTENSION  \\\n",
       "0   2016376978   2016376978521300          5213                       0   \n",
       "1  20186000994  20186000994239900          2399                       0   \n",
       "2  20166003953  20166003953230500          2305                       0   \n",
       "3    201872333    201872333239900          2399                       0   \n",
       "4   2017411405   2017411405230300          2303                       0   \n",
       "\n",
       "                OFFENSE_TYPE_ID       OFFENSE_CATEGORY_ID  \\\n",
       "0  weapon-unlawful-discharge-of          all-other-crimes   \n",
       "1                   theft-other                   larceny   \n",
       "2      theft-items-from-vehicle  theft-from-motor-vehicle   \n",
       "3                   theft-other                   larceny   \n",
       "4                theft-shoplift                   larceny   \n",
       "\n",
       "  FIRST_OCCURRENCE_DATE   LAST_OCCURRENCE_DATE          REPORTED_DATE  \\\n",
       "0   2016-06-15 23:31:00                    NaN  6/15/2016 11:31:00 PM   \n",
       "1   2017-10-11 12:30:00  10/11/2017 4:55:00 PM   1/29/2018 5:53:00 PM   \n",
       "2   2016-03-04 20:00:00   4/25/2016 8:00:00 AM   4/26/2016 9:02:00 PM   \n",
       "3   2018-01-30 19:20:00                    NaN  1/30/2018 10:29:00 PM   \n",
       "4   2017-06-22 20:53:00                    NaN   6/23/2017 4:09:00 PM   \n",
       "\n",
       "      INCIDENT_ADDRESS      GEO_X      GEO_Y     GEO_LON    GEO_LAT  \\\n",
       "0                  NaN  3193983.0  1707251.0 -104.809881  39.773188   \n",
       "1                  NaN  3201943.0  1711852.0 -104.781434  39.785649   \n",
       "2  2932 S JOSEPHINE ST  3152762.0  1667011.0 -104.957381  39.663490   \n",
       "3  705 S COLORADO BLVD  3157162.0  1681320.0 -104.941440  39.702698   \n",
       "4       2810 E 1ST AVE  3153211.0  1686545.0 -104.955370  39.717107   \n",
       "\n",
       "   DISTRICT_ID  PRECINCT_ID             NEIGHBORHOOD_ID  IS_CRIME  IS_TRAFFIC  \\\n",
       "0            5          521                   montbello         1           0   \n",
       "1            5          522  gateway-green-valley-ranch         1           0   \n",
       "2            3          314                   wellshire         1           0   \n",
       "3            3          312                     belcaro         1           0   \n",
       "4            3          311                cherry-creek         1           0   \n",
       "\n",
       "   hour  \n",
       "0    23  \n",
       "1    12  \n",
       "2    20  \n",
       "3    19  \n",
       "4    20  "
      ]
     },
     "execution_count": 7,
     "metadata": {},
     "output_type": "execute_result"
    }
   ],
   "source": [
    "#We gebruiken alleen de tijd van de dag, niet de datum. Van het uur maken we een extra kolom.\n",
    "df['hour'] = df['FIRST_OCCURRENCE_DATE'].dt.hour\n",
    "df.head()"
   ]
  },
  {
   "cell_type": "code",
   "execution_count": 8,
   "metadata": {},
   "outputs": [
    {
     "data": {
      "text/plain": [
       "<matplotlib.axes._subplots.AxesSubplot at 0x1ab3265cfc8>"
      ]
     },
     "execution_count": 8,
     "metadata": {},
     "output_type": "execute_result"
    },
    {
     "data": {
      "image/png": "[encoded data removed]",
      "text/plain": [
       "<Figure size 1440x720 with 1 Axes>"
      ]
     },
     "metadata": {
      "needs_background": "light"
     },
     "output_type": "display_data"
    }
   ],
   "source": [
    "#Inzichtelijk maken in welk uur de meeste misdaden voorkomen.\n",
    "plt.figure(figsize=(20,10))\n",
    "sns.countplot(df['hour'], data=df, color='Blue')"
   ]
  },
  {
   "cell_type": "code",
   "execution_count": 9,
   "metadata": {},
   "outputs": [],
   "source": [
    "#Districten uit elkaar halen om per district te visualiseren.\n",
    "district1 = df.loc[df['DISTRICT_ID'] == 1]\n",
    "district2 = df.loc[df['DISTRICT_ID'] == 2]\n",
    "district3 = df.loc[df['DISTRICT_ID'] == 3]\n",
    "district4 = df.loc[df['DISTRICT_ID'] == 4]\n",
    "district5 = df.loc[df['DISTRICT_ID'] == 5]\n",
    "district6 = df.loc[df['DISTRICT_ID'] == 6]\n",
    "district7 = df.loc[df['DISTRICT_ID'] == 7]"
   ]
  },
  {
   "cell_type": "code",
   "execution_count": 10,
   "metadata": {},
   "outputs": [
    {
     "data": {
      "text/plain": [
       "<matplotlib.axes._subplots.AxesSubplot at 0x1ab28e2a308>"
      ]
     },
     "execution_count": 10,
     "metadata": {},
     "output_type": "execute_result"
    },
    {
     "data": {
      "image/png": "[encoded data removed]",
      "text/plain": [
       "<Figure size 1440x720 with 1 Axes>"
      ]
     },
     "metadata": {
      "needs_background": "light"
     },
     "output_type": "display_data"
    }
   ],
   "source": [
    "#Visualiseren van District 1\n",
    "plt.figure(figsize=(20,10))\n",
    "sns.countplot(district1['hour'], data=district1, color='Blue')"
   ]
  },
  {
   "cell_type": "markdown",
   "metadata": {},
   "source": [
    "In District 1 is te zien dat de pieken liggen om 12 uur, 16 uur, 22 uur en 0 uur."
   ]
  },
  {
   "cell_type": "code",
   "execution_count": 17,
   "metadata": {},
   "outputs": [
    {
     "data": {
      "text/plain": [
       "<matplotlib.axes._subplots.AxesSubplot at 0x1ab39867c88>"
      ]
     },
     "execution_count": 17,
     "metadata": {},
     "output_type": "execute_result"
    },
    {
     "data": {
      "image/png": "[encoded data removed]",
      "text/plain": [
       "<Figure size 1440x720 with 1 Axes>"
      ]
     },
     "metadata": {
      "needs_background": "light"
     },
     "output_type": "display_data"
    }
   ],
   "source": [
    "#Visualiseren van District 2\n",
    "plt.figure(figsize=(20,10))\n",
    "sns.countplot(district2['hour'], data=district2, color='Blue')"
   ]
  },
  {
   "cell_type": "markdown",
   "metadata": {},
   "source": [
    "In District 2 is te zien dat de pieken liggen om 17 uur, 22 uur en 0 uur."
   ]
  },
  {
   "cell_type": "code",
   "execution_count": 12,
   "metadata": {},
   "outputs": [
    {
     "data": {
      "text/plain": [
       "<matplotlib.axes._subplots.AxesSubplot at 0x1ab292fb808>"
      ]
     },
     "execution_count": 12,
     "metadata": {},
     "output_type": "execute_result"
    },
    {
     "data": {
      "image/png": "[encoded data removed]",
      "text/plain": [
       "<Figure size 1440x720 with 1 Axes>"
      ]
     },
     "metadata": {
      "needs_background": "light"
     },
     "output_type": "display_data"
    }
   ],
   "source": [
    "#Visualiseren van District 3\n",
    "plt.figure(figsize=(20,10))\n",
    "sns.countplot(district3['hour'], data=district3, color='Blue')"
   ]
  },
  {
   "cell_type": "markdown",
   "metadata": {},
   "source": [
    "In District 3 is te zien dat de pieken liggen om 17 uur, 22 uur en 0 uur."
   ]
  },
  {
   "cell_type": "code",
   "execution_count": 13,
   "metadata": {},
   "outputs": [
    {
     "data": {
      "text/plain": [
       "<matplotlib.axes._subplots.AxesSubplot at 0x1ab2a4c6408>"
      ]
     },
     "execution_count": 13,
     "metadata": {},
     "output_type": "execute_result"
    },
    {
     "data": {
      "image/png": "[encoded data removed]",
      "text/plain": [
       "<Figure size 1440x720 with 1 Axes>"
      ]
     },
     "metadata": {
      "needs_background": "light"
     },
     "output_type": "display_data"
    }
   ],
   "source": [
    "#Visualiseren van District 4\n",
    "plt.figure(figsize=(20,10))\n",
    "sns.countplot(district4['hour'], data=district4, color='Blue')"
   ]
  },
  {
   "cell_type": "markdown",
   "metadata": {},
   "source": [
    "In District 4 is te zien dat de pieken liggen om 12 uur en 22 uur."
   ]
  },
  {
   "cell_type": "code",
   "execution_count": 14,
   "metadata": {},
   "outputs": [
    {
     "data": {
      "text/plain": [
       "<matplotlib.axes._subplots.AxesSubplot at 0x1ab2a4c0b48>"
      ]
     },
     "execution_count": 14,
     "metadata": {},
     "output_type": "execute_result"
    },
    {
     "data": {
      "image/png": "[encoded data removed]",
      "text/plain": [
       "<Figure size 1440x720 with 1 Axes>"
      ]
     },
     "metadata": {
      "needs_background": "light"
     },
     "output_type": "display_data"
    }
   ],
   "source": [
    "#Visualiseren van District 5\n",
    "plt.figure(figsize=(20,10))\n",
    "sns.countplot(district5['hour'], data=district5, color='Blue')"
   ]
  },
  {
   "cell_type": "markdown",
   "metadata": {},
   "source": [
    "In District 5 is te zien dat de pieken liggen om 17 uur, 22 uur en 0 uur."
   ]
  },
  {
   "cell_type": "code",
   "execution_count": 15,
   "metadata": {},
   "outputs": [
    {
     "data": {
      "text/plain": [
       "<matplotlib.axes._subplots.AxesSubplot at 0x1ab2b529088>"
      ]
     },
     "execution_count": 15,
     "metadata": {},
     "output_type": "execute_result"
    },
    {
     "data": {
      "image/png": "[encoded data removed]",
      "text/plain": [
       "<Figure size 1440x720 with 1 Axes>"
      ]
     },
     "metadata": {
      "needs_background": "light"
     },
     "output_type": "display_data"
    }
   ],
   "source": [
    "#Visualiseren van District 6\n",
    "plt.figure(figsize=(20,10))\n",
    "sns.countplot(district6['hour'], data=district6, color='Blue')"
   ]
  },
  {
   "cell_type": "markdown",
   "metadata": {},
   "source": [
    "In District 6 is te zien dat de enige uitschieter op 16 uur ligt."
   ]
  },
  {
   "cell_type": "code",
   "execution_count": 16,
   "metadata": {},
   "outputs": [
    {
     "data": {
      "text/plain": [
       "<matplotlib.axes._subplots.AxesSubplot at 0x1ab2c1e9648>"
      ]
     },
     "execution_count": 16,
     "metadata": {},
     "output_type": "execute_result"
    },
    {
     "data": {
      "image/png": "[encoded data removed]",
      "text/plain": [
       "<Figure size 1440x720 with 1 Axes>"
      ]
     },
     "metadata": {
      "needs_background": "light"
     },
     "output_type": "display_data"
    }
   ],
   "source": [
    "#Visualiseren van District 7\n",
    "plt.figure(figsize=(20,10))\n",
    "sns.countplot(district7['hour'], data=district7, color='Blue')"
   ]
  },
  {
   "cell_type": "markdown",
   "metadata": {},
   "source": [
    "In District 7 liggen de getallen voor misdaad veel lager. Bij zulke lage getallen is het de vraag of tijdsverschillen significant genoeg zijn om te onderzoeken."
   ]
  },
  {
   "cell_type": "markdown",
   "metadata": {},
   "source": [
    "Conclusie: In de verschillende districten liggen de pieken vaak op dezelfde uren, 16/17 en 22 uur. Wat dit ons kan vertellen is dat er in deze districten duidelijke periodes zijn waar een hogere aanwezigheid van politie een groot verschil kan maken."
   ]
  },
  {
   "cell_type": "code",
   "execution_count": null,
   "metadata": {},
   "outputs": [],
   "source": []
  }
 ],
 "metadata": {
  "kernelspec": {
   "display_name": "Python 3",
   "language": "python",
   "name": "python3"
  },
  "language_info": {
   "codemirror_mode": {
    "name": "ipython",
    "version": 3
   },
   "file_extension": ".py",
   "mimetype": "text/x-python",
   "name": "python",
   "nbconvert_exporter": "python",
   "pygments_lexer": "ipython3",
   "version": "3.7.4"
  }
 },
 "nbformat": 4,
 "nbformat_minor": 2
}
